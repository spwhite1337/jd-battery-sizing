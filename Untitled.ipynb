{
 "cells": [
  {
   "cell_type": "code",
   "execution_count": 1,
   "metadata": {},
   "outputs": [],
   "source": [
    "import os\n",
    "import plotly as py\n",
    "import pandas as pd\n",
    "import numpy as np\n",
    "import scipy"
   ]
  },
  {
   "cell_type": "code",
   "execution_count": 2,
   "metadata": {},
   "outputs": [],
   "source": [
    "from jd_battery_sizing.utils.load import load_data"
   ]
  },
  {
   "cell_type": "code",
   "execution_count": 3,
   "metadata": {},
   "outputs": [],
   "source": [
    "from config import Config"
   ]
  },
  {
   "cell_type": "code",
   "execution_count": 4,
   "metadata": {},
   "outputs": [
    {
     "name": "stderr",
     "output_type": "stream",
     "text": [
      "2020-07-25 13:09:20 INFO     Load Data\n",
      "2020-07-25 13:09:30 INFO     Parse timestamp\n"
     ]
    }
   ],
   "source": [
    "df = load_data()"
   ]
  },
  {
   "cell_type": "code",
   "execution_count": 5,
   "metadata": {},
   "outputs": [
    {
     "data": {
      "text/plain": [
       "(104013, 10)"
      ]
     },
     "execution_count": 5,
     "metadata": {},
     "output_type": "execute_result"
    }
   ],
   "source": [
    "df.shape"
   ]
  },
  {
   "cell_type": "code",
   "execution_count": 6,
   "metadata": {},
   "outputs": [
    {
     "data": {
      "text/html": [
       "<div>\n",
       "<style scoped>\n",
       "    .dataframe tbody tr th:only-of-type {\n",
       "        vertical-align: middle;\n",
       "    }\n",
       "\n",
       "    .dataframe tbody tr th {\n",
       "        vertical-align: top;\n",
       "    }\n",
       "\n",
       "    .dataframe thead th {\n",
       "        text-align: right;\n",
       "    }\n",
       "</style>\n",
       "<table border=\"1\" class=\"dataframe\">\n",
       "  <thead>\n",
       "    <tr style=\"text-align: right;\">\n",
       "      <th></th>\n",
       "      <th>Timestamp</th>\n",
       "      <th>ActivePowerMean_KW_</th>\n",
       "      <th>ReactivePowerMean_KVAR_</th>\n",
       "      <th>ApparentPowerMean_KVA_</th>\n",
       "      <th>ActivePowerHigh</th>\n",
       "      <th>ReactivePowerHigh</th>\n",
       "      <th>ApparentPowerHigh</th>\n",
       "      <th>ActivePowerLow</th>\n",
       "      <th>ReactivePowerLow</th>\n",
       "      <th>ApparentPowerLow</th>\n",
       "    </tr>\n",
       "  </thead>\n",
       "  <tbody>\n",
       "    <tr>\n",
       "      <th>0</th>\n",
       "      <td>2017-06-30 06:15:00</td>\n",
       "      <td>7512.273</td>\n",
       "      <td>3730.892</td>\n",
       "      <td>8387.773</td>\n",
       "      <td>7903.098</td>\n",
       "      <td>4052.323</td>\n",
       "      <td>8800.395</td>\n",
       "      <td>7181.843</td>\n",
       "      <td>3631.748</td>\n",
       "      <td>8051.812</td>\n",
       "    </tr>\n",
       "    <tr>\n",
       "      <th>1</th>\n",
       "      <td>2017-06-30 06:30:00</td>\n",
       "      <td>7224.254</td>\n",
       "      <td>3726.574</td>\n",
       "      <td>8129.002</td>\n",
       "      <td>7461.833</td>\n",
       "      <td>3968.001</td>\n",
       "      <td>8406.563</td>\n",
       "      <td>6918.440</td>\n",
       "      <td>3550.449</td>\n",
       "      <td>7808.975</td>\n",
       "    </tr>\n",
       "    <tr>\n",
       "      <th>2</th>\n",
       "      <td>2017-06-30 06:45:00</td>\n",
       "      <td>7274.391</td>\n",
       "      <td>3848.138</td>\n",
       "      <td>8229.677</td>\n",
       "      <td>7599.100</td>\n",
       "      <td>3975.590</td>\n",
       "      <td>8535.603</td>\n",
       "      <td>6943.848</td>\n",
       "      <td>3773.673</td>\n",
       "      <td>7915.956</td>\n",
       "    </tr>\n",
       "    <tr>\n",
       "      <th>3</th>\n",
       "      <td>2017-06-30 07:00:00</td>\n",
       "      <td>7333.850</td>\n",
       "      <td>3799.909</td>\n",
       "      <td>8259.898</td>\n",
       "      <td>7638.696</td>\n",
       "      <td>3883.704</td>\n",
       "      <td>8559.869</td>\n",
       "      <td>7001.624</td>\n",
       "      <td>3715.535</td>\n",
       "      <td>7946.551</td>\n",
       "    </tr>\n",
       "    <tr>\n",
       "      <th>4</th>\n",
       "      <td>2017-06-30 07:15:00</td>\n",
       "      <td>7377.715</td>\n",
       "      <td>3775.311</td>\n",
       "      <td>8287.663</td>\n",
       "      <td>7704.978</td>\n",
       "      <td>4076.252</td>\n",
       "      <td>8611.008</td>\n",
       "      <td>6998.328</td>\n",
       "      <td>3699.216</td>\n",
       "      <td>7915.856</td>\n",
       "    </tr>\n",
       "  </tbody>\n",
       "</table>\n",
       "</div>"
      ],
      "text/plain": [
       "            Timestamp  ActivePowerMean_KW_  ReactivePowerMean_KVAR_  \\\n",
       "0 2017-06-30 06:15:00             7512.273                 3730.892   \n",
       "1 2017-06-30 06:30:00             7224.254                 3726.574   \n",
       "2 2017-06-30 06:45:00             7274.391                 3848.138   \n",
       "3 2017-06-30 07:00:00             7333.850                 3799.909   \n",
       "4 2017-06-30 07:15:00             7377.715                 3775.311   \n",
       "\n",
       "   ApparentPowerMean_KVA_  ActivePowerHigh  ReactivePowerHigh  \\\n",
       "0                8387.773         7903.098           4052.323   \n",
       "1                8129.002         7461.833           3968.001   \n",
       "2                8229.677         7599.100           3975.590   \n",
       "3                8259.898         7638.696           3883.704   \n",
       "4                8287.663         7704.978           4076.252   \n",
       "\n",
       "   ApparentPowerHigh  ActivePowerLow  ReactivePowerLow  ApparentPowerLow  \n",
       "0           8800.395        7181.843          3631.748          8051.812  \n",
       "1           8406.563        6918.440          3550.449          7808.975  \n",
       "2           8535.603        6943.848          3773.673          7915.956  \n",
       "3           8559.869        7001.624          3715.535          7946.551  \n",
       "4           8611.008        6998.328          3699.216          7915.856  "
      ]
     },
     "execution_count": 6,
     "metadata": {},
     "output_type": "execute_result"
    }
   ],
   "source": [
    "df.head()"
   ]
  },
  {
   "cell_type": "code",
   "execution_count": null,
   "metadata": {},
   "outputs": [],
   "source": []
  },
  {
   "cell_type": "code",
   "execution_count": null,
   "metadata": {},
   "outputs": [],
   "source": []
  },
  {
   "cell_type": "code",
   "execution_count": null,
   "metadata": {},
   "outputs": [],
   "source": []
  },
  {
   "cell_type": "code",
   "execution_count": null,
   "metadata": {},
   "outputs": [],
   "source": []
  }
 ],
 "metadata": {
  "kernelspec": {
   "display_name": "Python 3",
   "language": "python",
   "name": "python3"
  },
  "language_info": {
   "codemirror_mode": {
    "name": "ipython",
    "version": 3
   },
   "file_extension": ".py",
   "mimetype": "text/x-python",
   "name": "python",
   "nbconvert_exporter": "python",
   "pygments_lexer": "ipython3",
   "version": "3.6.5"
  }
 },
 "nbformat": 4,
 "nbformat_minor": 2
}
