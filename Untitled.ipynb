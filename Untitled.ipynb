{
 "cells": [
  {
   "cell_type": "code",
   "execution_count": 1,
   "metadata": {},
   "outputs": [],
   "source": [
    "from jd_battery_sizing.utils.load import load_data\n",
    "from jd_battery_sizing.utils.wrangle import daily_aggregation\n",
    "from jd_battery_sizing.utils.plot import series_plot, scatter_plot\n",
    "from jd_battery_sizing.utils.calculations import energy_by_demand"
   ]
  },
  {
   "cell_type": "code",
   "execution_count": 2,
   "metadata": {},
   "outputs": [],
   "source": [
    "from config import Config\n",
    "\n",
    "CONFIG = {\n",
    "    'only_weekdays': True,\n",
    "    'trendline': 'lowess',\n",
    "    'interval_min': 15\n",
    "}"
   ]
  },
  {
   "cell_type": "code",
   "execution_count": null,
   "metadata": {},
   "outputs": [
    {
     "name": "stderr",
     "output_type": "stream",
     "text": [
      "2020-07-25 15:05:24 INFO     Load Data\n",
      "2020-07-25 15:05:37 INFO     Parse timestamp\n"
     ]
    }
   ],
   "source": [
    "df = load_data()"
   ]
  },
  {
   "cell_type": "code",
   "execution_count": null,
   "metadata": {},
   "outputs": [],
   "source": [
    "df_daily = daily_aggregation(df, **CONFIG)"
   ]
  },
  {
   "cell_type": "code",
   "execution_count": null,
   "metadata": {},
   "outputs": [],
   "source": [
    "# Plot average demand by day\n",
    "series_plot(df_daily, 'Timestamp', 'ApparentPowerMean_KVA_', 'Average Demand by Day', **CONFIG).show()"
   ]
  },
  {
   "cell_type": "code",
   "execution_count": null,
   "metadata": {},
   "outputs": [],
   "source": [
    "# Plot Peak Demand each day\n",
    "series_plot(df_daily, 'Timestamp', 'ApparentPowerHigh', 'Peak Demand by Day', **CONFIG).show()"
   ]
  },
  {
   "cell_type": "code",
   "execution_count": null,
   "metadata": {},
   "outputs": [],
   "source": [
    "# pair-wise scatter plots of active vs. reactive\n",
    "scatter_plot(df_daily, 'ActivePower_KW_', 'ReactivePowerMean_KVAR_', title='Active vs. Reactive', **CONFIG)"
   ]
  },
  {
   "cell_type": "code",
   "execution_count": null,
   "metadata": {},
   "outputs": [],
   "source": [
    "# Integrate time series below / above cutoffs for df with fields:\n",
    "# [cutoff, energy-below, energy-above, energy-above / (energy-above + energy-below)]\n",
    "df_cutoffs = energy_by_demand(df)"
   ]
  },
  {
   "cell_type": "code",
   "execution_count": null,
   "metadata": {},
   "outputs": [],
   "source": [
    "df_cutoffs.shape"
   ]
  },
  {
   "cell_type": "code",
   "execution_count": null,
   "metadata": {},
   "outputs": [],
   "source": [
    "df_cutoffs.head()"
   ]
  },
  {
   "cell_type": "code",
   "execution_count": null,
   "metadata": {},
   "outputs": [],
   "source": []
  },
  {
   "cell_type": "code",
   "execution_count": null,
   "metadata": {},
   "outputs": [],
   "source": [
    "# Find peak-demand minus 2 MW aggregated by day; calculate the total energy above this level (like above)\n",
    "# This will be the battery size necessary to meet the energy demands that arrise at the top 2 MW of demand"
   ]
  },
  {
   "cell_type": "code",
   "execution_count": null,
   "metadata": {},
   "outputs": [],
   "source": []
  },
  {
   "cell_type": "code",
   "execution_count": null,
   "metadata": {},
   "outputs": [],
   "source": []
  }
 ],
 "metadata": {
  "kernelspec": {
   "display_name": "Scott (jd-battery-sizing)",
   "language": "python",
   "name": "jd-battery-sizing"
  },
  "language_info": {
   "codemirror_mode": {
    "name": "ipython",
    "version": 3
   },
   "file_extension": ".py",
   "mimetype": "text/x-python",
   "name": "python",
   "nbconvert_exporter": "python",
   "pygments_lexer": "ipython3",
   "version": "3.5.6"
  }
 },
 "nbformat": 4,
 "nbformat_minor": 2
}
